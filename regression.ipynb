{
  "nbformat": 4,
  "nbformat_minor": 0,
  "metadata": {
    "colab": {
      "name": "regression.ipynb",
      "provenance": [],
      "collapsed_sections": [],
      "toc_visible": true
    },
    "kernelspec": {
      "name": "python3",
      "display_name": "Python 3"
    }
  },
  "cells": [
    {
      "cell_type": "markdown",
      "metadata": {
        "id": "ZPpXZ-H90c37",
        "colab_type": "text"
      },
      "source": [
        "#REGRESSION\n"
      ]
    },
    {
      "cell_type": "code",
      "metadata": {
        "id": "OWzpsdqyzoY0",
        "colab_type": "code",
        "colab": {}
      },
      "source": [
        "import pandas as pd\n",
        "import numpy as np\n",
        "from sklearn.metrics import r2_score, mean_squared_error, mean_absolute_error\n",
        "from sklearn.model_selection import train_test_split\n",
        "from sklearn.linear_model import LinearRegression\n",
        "from sklearn.ensemble import GradientBoostingRegressor, ExtraTreesRegressor\n",
        "from sklearn.svm import SVR\n",
        "from sklearn.preprocessing import LabelEncoder, StandardScaler"
      ],
      "execution_count": null,
      "outputs": []
    },
    {
      "cell_type": "code",
      "metadata": {
        "id": "1aYYzr8N30fA",
        "colab_type": "code",
        "colab": {}
      },
      "source": [
        "ds = pd.read_csv('/content/drive/My Drive/flight project /finaldata.csv')\n",
        "ds.dropna(inplace = True)\n",
        "ds = ds[ds['ArrDel15'] == 1]\n",
        "features = ['Quarter', 'Month', 'DayofMonth','Origin',  'Dest', 'CRSDepTime',\n",
        "            'DepTime', 'DepDelayMinutes', 'windspeedKmph', 'DewPointF', 'cloudcover',\n",
        "            'precipMM', 'pressure', 'WindGustKmph', 'visibility', 'weatherCode', 'tempF',\n",
        "            'WindChillF', 'winddirDegree', 'humidity', 'ArrDelayMinutes']\n",
        "ds = ds.loc[: , features  ]\n",
        "target = 'ArrDelayMinutes'"
      ],
      "execution_count": null,
      "outputs": []
    },
    {
      "cell_type": "code",
      "metadata": {
        "id": "7OETJ_Bh4uFC",
        "colab_type": "code",
        "colab": {}
      },
      "source": [
        "X = ds.drop(target, axis = 1)\n",
        "X['Origin'] = LabelEncoder().fit_transform(X['Origin'])\n",
        "X['Dest'] = LabelEncoder().fit_transform(X['Dest'])\n",
        "y = ds[target]\n",
        "X_train, X_test, y_train, y_test = train_test_split(X, y, test_size = 0.20, random_state = 0)\n",
        "sc = StandardScaler()\n",
        "X_train = sc.fit_transform(X_train)\n",
        "X_test = sc.transform(X_test)"
      ],
      "execution_count": null,
      "outputs": []
    },
    {
      "cell_type": "code",
      "metadata": {
        "id": "rqPMYffp475s",
        "colab_type": "code",
        "colab": {}
      },
      "source": [
        "def generate_report(y_test, y_pred):\n",
        "  print('r2 value: ',r2_score(y_test, y_pred))\n",
        "  print('rmse: ', mean_squared_error(y_test,y_pred)**0.5)\n",
        "  print('mae: ',mean_absolute_error(y_test, y_pred))"
      ],
      "execution_count": null,
      "outputs": []
    },
    {
      "cell_type": "code",
      "metadata": {
        "id": "w4vsjmlKGMFA",
        "colab_type": "code",
        "colab": {
          "base_uri": "https://localhost:8080/",
          "height": 68
        },
        "outputId": "d1c468df-dd92-4de4-cffc-1084e6f17f36"
      },
      "source": [
        "regressor = LinearRegression()\n",
        "regressor = regressor.fit(X_train,y_train)\n",
        "y_pred = regressor.predict(X_test)\n",
        "generate_report(y_test, y_pred)"
      ],
      "execution_count": null,
      "outputs": [
        {
          "output_type": "stream",
          "text": [
            "r2 value:  0.9235845463288442\n",
            "rmse:  19.851562969196358\n",
            "mae:  14.565334399056468\n"
          ],
          "name": "stdout"
        }
      ]
    },
    {
      "cell_type": "code",
      "metadata": {
        "id": "_yYb2bGcGhT2",
        "colab_type": "code",
        "colab": {
          "base_uri": "https://localhost:8080/",
          "height": 68
        },
        "outputId": "4992098a-0446-4c3d-f07d-cb5b0adbd637"
      },
      "source": [
        "regressor = GradientBoostingRegressor()\n",
        "regressor = regressor.fit(X_train,y_train)\n",
        "y_pred = regressor.predict(X_test)\n",
        "generate_report(y_test, y_pred)"
      ],
      "execution_count": null,
      "outputs": [
        {
          "output_type": "stream",
          "text": [
            "r2 value:  0.9444333537969626\n",
            "rmse:  16.92821632967743\n",
            "mae:  11.717344299917453\n"
          ],
          "name": "stdout"
        }
      ]
    },
    {
      "cell_type": "code",
      "metadata": {
        "id": "5leQwOrJG_Ar",
        "colab_type": "code",
        "colab": {
          "base_uri": "https://localhost:8080/",
          "height": 68
        },
        "outputId": "5cb51c37-3aad-489a-e6eb-770ecfdbb35a"
      },
      "source": [
        "regressor = ExtraTreesRegressor()\n",
        "regressor = regressor.fit(X_train,y_train)\n",
        "y_pred = regressor.predict(X_test)\n",
        "generate_report(y_test, y_pred)"
      ],
      "execution_count": null,
      "outputs": [
        {
          "output_type": "stream",
          "text": [
            "r2 value:  0.9444765089612509\n",
            "rmse:  16.92164150554183\n",
            "mae:  11.898035999587695\n"
          ],
          "name": "stdout"
        }
      ]
    },
    {
      "cell_type": "code",
      "metadata": {
        "id": "PsL3qaUKHAaN",
        "colab_type": "code",
        "colab": {}
      },
      "source": [
        "regressor = SVR()\n",
        "regressor = regressor.fit(X_train,y_train)\n",
        "y_pred = regressor.predict(X_test)\n",
        "generate_report(y_test, y_pred)"
      ],
      "execution_count": null,
      "outputs": []
    },
    {
      "cell_type": "code",
      "metadata": {
        "id": "XS7h6aEvIHtR",
        "colab_type": "code",
        "colab": {}
      },
      "source": [
        "# 15-100\n",
        "# 100-200\n",
        "# 200-500\n",
        "# 500-1000\n",
        "# 1000+"
      ],
      "execution_count": null,
      "outputs": []
    }
  ]
}