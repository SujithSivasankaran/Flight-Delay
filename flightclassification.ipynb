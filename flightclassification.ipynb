{
  "nbformat": 4,
  "nbformat_minor": 0,
  "metadata": {
    "kernelspec": {
      "display_name": "Python 3",
      "language": "python",
      "name": "python3"
    },
    "language_info": {
      "codemirror_mode": {
        "name": "ipython",
        "version": 3
      },
      "file_extension": ".py",
      "mimetype": "text/x-python",
      "name": "python",
      "nbconvert_exporter": "python",
      "pygments_lexer": "ipython3",
      "version": "3.7.4"
    },
    "colab": {
      "name": "classification.ipynb",
      "provenance": [],
      "collapsed_sections": [],
      "toc_visible": true
    }
  },
  "cells": [
    {
      "cell_type": "code",
      "metadata": {
        "id": "FenhGPeejMs9",
        "colab_type": "code",
        "colab": {
          "base_uri": "https://localhost:8080/",
          "height": 122
        },
        "outputId": "9c23a29a-6818-47e5-e2cd-9a05a6557ad1"
      },
      "source": [
        "from google.colab import drive\n",
        "drive.mount('/content/drive')"
      ],
      "execution_count": null,
      "outputs": [
        {
          "output_type": "stream",
          "text": [
            "Go to this URL in a browser: https://accounts.google.com/o/oauth2/auth?client_id=947318989803-6bn6qk8qdgf4n4g3pfee6491hc0brc4i.apps.googleusercontent.com&redirect_uri=urn%3aietf%3awg%3aoauth%3a2.0%3aoob&response_type=code&scope=email%20https%3a%2f%2fwww.googleapis.com%2fauth%2fdocs.test%20https%3a%2f%2fwww.googleapis.com%2fauth%2fdrive%20https%3a%2f%2fwww.googleapis.com%2fauth%2fdrive.photos.readonly%20https%3a%2f%2fwww.googleapis.com%2fauth%2fpeopleapi.readonly\n",
            "\n",
            "Enter your authorization code:\n",
            "··········\n",
            "Mounted at /content/drive\n"
          ],
          "name": "stdout"
        }
      ]
    },
    {
      "cell_type": "markdown",
      "metadata": {
        "id": "-kMGhmKZyHGO",
        "colab_type": "text"
      },
      "source": [
        "#CLASSIFICATION"
      ]
    },
    {
      "cell_type": "code",
      "metadata": {
        "id": "Ps9c-XqHxGZN",
        "colab_type": "code",
        "colab": {
          "base_uri": "https://localhost:8080/",
          "height": 105
        },
        "outputId": "feb2618b-5043-4f55-ebc5-5fc7f4922208"
      },
      "source": [
        "import pandas as pd  \n",
        "import numpy as np  \n",
        "from sklearn.model_selection import train_test_split \n",
        "from sklearn.metrics import  classification_report\n",
        "from sklearn.linear_model import LogisticRegression\n",
        "from sklearn.tree import DecisionTreeClassifier\n",
        "from sklearn.datasets import make_classification\n",
        "from sklearn.ensemble import GradientBoostingClassifier\n",
        "from sklearn.ensemble import ExtraTreesClassifier\n",
        "from sklearn.datasets import make_classification\n",
        "from sklearn.model_selection import train_test_split\n",
        "from sklearn.preprocessing import StandardScaler\n",
        "from sklearn.ensemble import RandomForestClassifier\n",
        "from sklearn.preprocessing import LabelEncoder\n",
        "from imblearn.over_sampling import SMOTE\n",
        "from time import process_time\n",
        "import os"
      ],
      "execution_count": 1,
      "outputs": [
        {
          "output_type": "stream",
          "text": [
            "/usr/local/lib/python3.6/dist-packages/sklearn/externals/six.py:31: FutureWarning: The module is deprecated in version 0.21 and will be removed in version 0.23 since we've dropped support for Python 2.7. Please rely on the official version of six (https://pypi.org/project/six/).\n",
            "  \"(https://pypi.org/project/six/).\", FutureWarning)\n",
            "/usr/local/lib/python3.6/dist-packages/sklearn/utils/deprecation.py:144: FutureWarning: The sklearn.neighbors.base module is  deprecated in version 0.22 and will be removed in version 0.24. The corresponding classes / functions should instead be imported from sklearn.neighbors. Anything that cannot be imported from sklearn.neighbors is now part of the private API.\n",
            "  warnings.warn(message, FutureWarning)\n"
          ],
          "name": "stderr"
        }
      ]
    },
    {
      "cell_type": "markdown",
      "metadata": {
        "id": "Xp5qcvokzNbk",
        "colab_type": "text"
      },
      "source": [
        "Data processsing and Data split"
      ]
    },
    {
      "cell_type": "code",
      "metadata": {
        "id": "XpG05VN_yTA_",
        "colab_type": "code",
        "colab": {}
      },
      "source": [
        "def generate_model_report(y_test, y_pred):\n",
        "    print(classification_report(y_test, y_pred))"
      ],
      "execution_count": 2,
      "outputs": []
    },
    {
      "cell_type": "code",
      "metadata": {
        "id": "FWiPjnODyTEB",
        "colab_type": "code",
        "colab": {}
      },
      "source": [
        "target = 'ArrDel15'\n",
        "ds = pd.read_csv('/content/drive/My Drive/flight project /finaldata.csv')\n",
        "features = ['CRSDepTime', 'CRSArrTime','DepDelayMinutes', 'Dest', 'windspeedKmph', 'weatherCode',\n",
        "       'precipMM', 'pressure', 'cloudcover', 'DewPointF', 'WindGustKmph', 'Origin',\n",
        "       'tempF', 'WindChillF', 'time', 'ArrDel15']\n",
        "ds = ds.loc[: , features  ]\n",
        "ds.dropna(inplace = True)"
      ],
      "execution_count": 3,
      "outputs": []
    },
    {
      "cell_type": "code",
      "metadata": {
        "id": "QajYR4AQyTGz",
        "colab_type": "code",
        "colab": {}
      },
      "source": [
        "X = ds.drop(target, axis = 1)\n",
        "X['Origin'] = LabelEncoder().fit_transform(X['Origin'])\n",
        "X['Dest'] = LabelEncoder().fit_transform(X['Dest'])\n",
        "y = ds[target]\n",
        "X_train, X_test, y_train, y_test = train_test_split(X, y, test_size = 0.20, random_state = 0)\n",
        "sc = StandardScaler()\n",
        "X_train = sc.fit_transform(X_train)\n",
        "X_test = sc.transform(X_test)"
      ],
      "execution_count": 4,
      "outputs": []
    },
    {
      "cell_type": "markdown",
      "metadata": {
        "id": "LLeGDntKzK19",
        "colab_type": "text"
      },
      "source": [
        "Logistic Regression"
      ]
    },
    {
      "cell_type": "code",
      "metadata": {
        "id": "W2XpnhJqyTLT",
        "colab_type": "code",
        "colab": {}
      },
      "source": [
        "def logistic(X_train, y_train):\n",
        "    print('logistic')\n",
        "    classifier = LogisticRegression(random_state = 0)\n",
        "    classifier.fit(X_train, y_train)\n",
        "    y_pred = classifier.predict(X_test)\n",
        "    generate_model_report(y_test, y_pred)"
      ],
      "execution_count": 5,
      "outputs": []
    },
    {
      "cell_type": "markdown",
      "metadata": {
        "id": "1BV_DAD_zRhq",
        "colab_type": "text"
      },
      "source": [
        "Decision Tree"
      ]
    },
    {
      "cell_type": "code",
      "metadata": {
        "id": "kYwN4yTHyTQO",
        "colab_type": "code",
        "colab": {}
      },
      "source": [
        "def decision_tree(X_train, y_train): \n",
        "    print('decision_tree')\n",
        "    classifier = DecisionTreeClassifier(criterion = 'entropy', random_state = 0)\n",
        "    classifier.fit(X_train, y_train)\n",
        "    y_pred = classifier.predict(X_test)\n",
        "    generate_model_report(y_test, y_pred)"
      ],
      "execution_count": 6,
      "outputs": []
    },
    {
      "cell_type": "markdown",
      "metadata": {
        "id": "V26MkK7qzD6U",
        "colab_type": "text"
      },
      "source": [
        "Random Forest Classifier"
      ]
    },
    {
      "cell_type": "code",
      "metadata": {
        "id": "6aJ5My0myTV4",
        "colab_type": "code",
        "colab": {}
      },
      "source": [
        "def RandomForest(X_train, y_train): \n",
        "    print('Random_Forest_classifier')\n",
        "    classifier = RandomForestClassifier(n_estimators = 100)\n",
        "    classifier.fit(X_train, y_train)\n",
        "    y_pred = classifier.predict(X_test)\n",
        "    generate_model_report(y_test, y_pred)"
      ],
      "execution_count": 7,
      "outputs": []
    },
    {
      "cell_type": "markdown",
      "metadata": {
        "id": "wHSA22NHzE-n",
        "colab_type": "text"
      },
      "source": [
        "Extra Tree"
      ]
    },
    {
      "cell_type": "code",
      "metadata": {
        "id": "aQokmIvFyTZC",
        "colab_type": "code",
        "colab": {}
      },
      "source": [
        "def extra_tree(X_train, y_train):\n",
        "    print('extra_tree')\n",
        "    X, y = make_classification(n_features = 22, random_state=0)\n",
        "    classifier = ExtraTreesClassifier(n_estimators = 100 , random_state=0)\n",
        "    classifier.fit(X, y)\n",
        "    y_pred = classifier.predict(X_test)\n",
        "    generate_model_report(y_test, y_pred)"
      ],
      "execution_count": 8,
      "outputs": []
    },
    {
      "cell_type": "markdown",
      "metadata": {
        "id": "dt-F4r_kzFuI",
        "colab_type": "text"
      },
      "source": [
        "Xgboost"
      ]
    },
    {
      "cell_type": "code",
      "metadata": {
        "id": "rxjP5WEjyTbe",
        "colab_type": "code",
        "colab": {}
      },
      "source": [
        "def xgboost(X_train, y_train):    \n",
        "    print('xgboost')\n",
        "    X, y = make_classification(random_state=0)\n",
        "    classifier = GradientBoostingClassifier(random_state=0)\n",
        "    classifier.fit(X_train, y_train)\n",
        "    y_pred = classifier.predict(X_test)\n",
        "    generate_model_report(y_test, y_pred)"
      ],
      "execution_count": 9,
      "outputs": []
    },
    {
      "cell_type": "markdown",
      "metadata": {
        "id": "uzL6KEdgzGTo",
        "colab_type": "text"
      },
      "source": [
        "under sampling"
      ]
    },
    {
      "cell_type": "code",
      "metadata": {
        "id": "wKnq6Gd5yTd-",
        "colab_type": "code",
        "colab": {
          "base_uri": "https://localhost:8080/",
          "height": 139
        },
        "outputId": "a9fc6d58-54dc-4039-9318-a4f863d1956f"
      },
      "source": [
        "from imblearn.under_sampling import NearMiss \n",
        "nr = NearMiss() \n",
        "X_train_under, y_train_under = nr.fit_sample(X_train, y_train.ravel()) \n"
      ],
      "execution_count": 10,
      "outputs": [
        {
          "output_type": "stream",
          "text": [
            "/usr/local/lib/python3.6/dist-packages/sklearn/utils/deprecation.py:87: FutureWarning: Function safe_indexing is deprecated; safe_indexing is deprecated in version 0.22 and will be removed in version 0.24.\n",
            "  warnings.warn(msg, category=FutureWarning)\n",
            "/usr/local/lib/python3.6/dist-packages/sklearn/utils/deprecation.py:87: FutureWarning: Function safe_indexing is deprecated; safe_indexing is deprecated in version 0.22 and will be removed in version 0.24.\n",
            "  warnings.warn(msg, category=FutureWarning)\n",
            "/usr/local/lib/python3.6/dist-packages/sklearn/utils/deprecation.py:87: FutureWarning: Function safe_indexing is deprecated; safe_indexing is deprecated in version 0.22 and will be removed in version 0.24.\n",
            "  warnings.warn(msg, category=FutureWarning)\n"
          ],
          "name": "stderr"
        }
      ]
    },
    {
      "cell_type": "markdown",
      "metadata": {
        "id": "-MZ-WaktzHdO",
        "colab_type": "text"
      },
      "source": [
        "over sampling"
      ]
    },
    {
      "cell_type": "code",
      "metadata": {
        "id": "YMBMNibtyTgX",
        "colab_type": "code",
        "colab": {
          "base_uri": "https://localhost:8080/",
          "height": 71
        },
        "outputId": "a44ee8a7-754f-4700-f721-b4d36c913905"
      },
      "source": [
        "sm = SMOTE(random_state = 42) \n",
        "X_train_over, y_train_over = sm.fit_resample(X_train, y_train) \n"
      ],
      "execution_count": 11,
      "outputs": [
        {
          "output_type": "stream",
          "text": [
            "/usr/local/lib/python3.6/dist-packages/sklearn/utils/deprecation.py:87: FutureWarning: Function safe_indexing is deprecated; safe_indexing is deprecated in version 0.22 and will be removed in version 0.24.\n",
            "  warnings.warn(msg, category=FutureWarning)\n"
          ],
          "name": "stderr"
        }
      ]
    },
    {
      "cell_type": "markdown",
      "metadata": {
        "id": "QTQqkdzszII0",
        "colab_type": "text"
      },
      "source": [
        "classification function"
      ]
    },
    {
      "cell_type": "code",
      "metadata": {
        "id": "nNjPQvYoyTlK",
        "colab_type": "code",
        "colab": {}
      },
      "source": [
        "def classification(X_value,y_value):\n",
        "    logistic(X_value, y_value)\n",
        "    decision_tree(X_value, y_value)\n",
        "    RandomForest(X_value, y_value) \n",
        "    # extra_tree(X_value, y_value)\n",
        "    xgboost(X_value, y_value)\n",
        "    "
      ],
      "execution_count": 12,
      "outputs": []
    },
    {
      "cell_type": "markdown",
      "metadata": {
        "id": "6-9gsjtEzI0W",
        "colab_type": "text"
      },
      "source": [
        "main function"
      ]
    },
    {
      "cell_type": "code",
      "metadata": {
        "id": "1jkp4dfmyTnv",
        "colab_type": "code",
        "colab": {
          "base_uri": "https://localhost:8080/",
          "height": 1000
        },
        "outputId": "3937c69a-d1ab-4f85-8f85-7c0f2e4aa594"
      },
      "source": [
        "\n",
        "print('GENERAL')\n",
        "classification(X_train, y_train)\n",
        "print('\\n\\nUNDERSAMPLING')\n",
        "classification(X_train_under, y_train_under)\n",
        "print('\\n\\nOVERRSAMPLING')\n",
        "classification(X_train_over, y_train_over)\n"
      ],
      "execution_count": 13,
      "outputs": [
        {
          "output_type": "stream",
          "text": [
            "GENERAL\n",
            "logistic\n",
            "              precision    recall  f1-score   support\n",
            "\n",
            "         0.0       0.92      0.98      0.95    292543\n",
            "         1.0       0.89      0.68      0.77     77745\n",
            "\n",
            "    accuracy                           0.92    370288\n",
            "   macro avg       0.91      0.83      0.86    370288\n",
            "weighted avg       0.91      0.92      0.91    370288\n",
            "\n",
            "decision_tree\n",
            "              precision    recall  f1-score   support\n",
            "\n",
            "         0.0       0.92      0.91      0.92    292543\n",
            "         1.0       0.69      0.70      0.69     77745\n",
            "\n",
            "    accuracy                           0.87    370288\n",
            "   macro avg       0.80      0.81      0.81    370288\n",
            "weighted avg       0.87      0.87      0.87    370288\n",
            "\n",
            "Random_Forest_classifier\n",
            "              precision    recall  f1-score   support\n",
            "\n",
            "         0.0       0.92      0.98      0.95    292543\n",
            "         1.0       0.89      0.69      0.78     77745\n",
            "\n",
            "    accuracy                           0.92    370288\n",
            "   macro avg       0.91      0.84      0.87    370288\n",
            "weighted avg       0.92      0.92      0.91    370288\n",
            "\n",
            "xgboost\n",
            "              precision    recall  f1-score   support\n",
            "\n",
            "         0.0       0.92      0.98      0.95    292543\n",
            "         1.0       0.90      0.68      0.78     77745\n",
            "\n",
            "    accuracy                           0.92    370288\n",
            "   macro avg       0.91      0.83      0.86    370288\n",
            "weighted avg       0.92      0.92      0.91    370288\n",
            "\n",
            "\n",
            "\n",
            "UNDERSAMPLING\n",
            "logistic\n",
            "              precision    recall  f1-score   support\n",
            "\n",
            "         0.0       0.94      0.85      0.90    292543\n",
            "         1.0       0.59      0.80      0.68     77745\n",
            "\n",
            "    accuracy                           0.84    370288\n",
            "   macro avg       0.77      0.83      0.79    370288\n",
            "weighted avg       0.87      0.84      0.85    370288\n",
            "\n",
            "decision_tree\n",
            "              precision    recall  f1-score   support\n",
            "\n",
            "         0.0       0.93      0.63      0.75    292543\n",
            "         1.0       0.37      0.83      0.51     77745\n",
            "\n",
            "    accuracy                           0.67    370288\n",
            "   macro avg       0.65      0.73      0.63    370288\n",
            "weighted avg       0.81      0.67      0.70    370288\n",
            "\n",
            "Random_Forest_classifier\n",
            "              precision    recall  f1-score   support\n",
            "\n",
            "         0.0       0.94      0.69      0.80    292543\n",
            "         1.0       0.42      0.85      0.56     77745\n",
            "\n",
            "    accuracy                           0.72    370288\n",
            "   macro avg       0.68      0.77      0.68    370288\n",
            "weighted avg       0.83      0.72      0.75    370288\n",
            "\n",
            "xgboost\n",
            "              precision    recall  f1-score   support\n",
            "\n",
            "         0.0       0.94      0.80      0.87    292543\n",
            "         1.0       0.52      0.82      0.64     77745\n",
            "\n",
            "    accuracy                           0.81    370288\n",
            "   macro avg       0.73      0.81      0.75    370288\n",
            "weighted avg       0.86      0.81      0.82    370288\n",
            "\n",
            "\n",
            "\n",
            "OVERRSAMPLING\n",
            "logistic\n",
            "              precision    recall  f1-score   support\n",
            "\n",
            "         0.0       0.94      0.93      0.93    292543\n",
            "         1.0       0.74      0.78      0.76     77745\n",
            "\n",
            "    accuracy                           0.90    370288\n",
            "   macro avg       0.84      0.85      0.85    370288\n",
            "weighted avg       0.90      0.90      0.90    370288\n",
            "\n",
            "decision_tree\n",
            "              precision    recall  f1-score   support\n",
            "\n",
            "         0.0       0.92      0.91      0.92    292543\n",
            "         1.0       0.68      0.70      0.69     77745\n",
            "\n",
            "    accuracy                           0.87    370288\n",
            "   macro avg       0.80      0.80      0.80    370288\n",
            "weighted avg       0.87      0.87      0.87    370288\n",
            "\n",
            "Random_Forest_classifier\n",
            "              precision    recall  f1-score   support\n",
            "\n",
            "         0.0       0.93      0.96      0.95    292543\n",
            "         1.0       0.84      0.74      0.78     77745\n",
            "\n",
            "    accuracy                           0.91    370288\n",
            "   macro avg       0.88      0.85      0.87    370288\n",
            "weighted avg       0.91      0.91      0.91    370288\n",
            "\n",
            "xgboost\n",
            "              precision    recall  f1-score   support\n",
            "\n",
            "         0.0       0.94      0.94      0.94    292543\n",
            "         1.0       0.77      0.77      0.77     77745\n",
            "\n",
            "    accuracy                           0.90    370288\n",
            "   macro avg       0.86      0.85      0.85    370288\n",
            "weighted avg       0.90      0.90      0.90    370288\n",
            "\n"
          ],
          "name": "stdout"
        }
      ]
    }
  ]
}