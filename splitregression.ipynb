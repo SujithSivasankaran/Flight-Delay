{
  "nbformat": 4,
  "nbformat_minor": 0,
  "metadata": {
    "colab": {
      "name": "splitregression.ipynb",
      "provenance": [],
      "collapsed_sections": []
    },
    "kernelspec": {
      "name": "python3",
      "display_name": "Python 3"
    }
  },
  "cells": [
    {
      "cell_type": "code",
      "metadata": {
        "id": "pPkEOPQc0uhi",
        "colab_type": "code",
        "colab": {}
      },
      "source": [
        "import pandas as pd\n",
        "import numpy as np\n",
        "from sklearn.ensemble import GradientBoostingRegressor\n",
        "from sklearn.model_selection import train_test_split\n",
        "from sklearn.preprocessing import LabelEncoder, StandardScaler\n",
        "from sklearn.metrics import r2_score, mean_squared_error, mean_absolute_error"
      ],
      "execution_count": 13,
      "outputs": []
    },
    {
      "cell_type": "code",
      "metadata": {
        "id": "aC_sSGJr1Idn",
        "colab_type": "code",
        "colab": {}
      },
      "source": [
        "ds = pd.read_csv('/content/drive/My Drive/flight project /finaldata.csv')\n",
        "ds.drop(ds[ds['ArrDel15'] == 0].index,inplace = True)\n",
        "features = ['CRSDepTime', 'CRSArrTime','DepDelayMinutes', 'Dest', 'windspeedKmph', 'weatherCode',\n",
        "            'precipMM', 'pressure', 'cloudcover', 'DewPointF', 'WindGustKmph', 'Origin',\n",
        "            'tempF', 'WindChillF', 'time', 'ArrDelayMinutes']\n",
        "ds = ds.loc[: , features  ]\n",
        "ds.dropna(inplace = True)\n",
        "target = 'ArrDelayMinutes'"
      ],
      "execution_count": 14,
      "outputs": []
    },
    {
      "cell_type": "code",
      "metadata": {
        "id": "YhgNs_Ex2yid",
        "colab_type": "code",
        "colab": {}
      },
      "source": [
        "\n",
        "X = ds.drop(target, axis = 1)\n",
        "X['Origin'] = LabelEncoder().fit_transform(X['Origin'])\n",
        "X['Dest'] = LabelEncoder().fit_transform(X['Dest'])\n",
        "y = ds[target]\n",
        "X_train, X_test, y_train, y_test = train_test_split(X, y, test_size = 0.20, random_state = 0)\n",
        "sc = StandardScaler()\n",
        "X_train = sc.fit_transform(X_train)\n",
        "X_test = sc.transform(X_test)\n",
        "  "
      ],
      "execution_count": 15,
      "outputs": []
    },
    {
      "cell_type": "code",
      "metadata": {
        "id": "Tx6ByvEH3N9O",
        "colab_type": "code",
        "colab": {}
      },
      "source": [
        "X_test1, X_test2, X_test3, X_test4, X_test5 = [], [], [], [], []\n",
        "y_test1, y_test2, y_test3, y_test4 ,y_test5 = [], [], [], [], []\n",
        "y_train_array = np.array(y_train)\n",
        "y_test_array = np.array(y_test)"
      ],
      "execution_count": 16,
      "outputs": []
    },
    {
      "cell_type": "code",
      "metadata": {
        "id": "fGgCe2bSHpXz",
        "colab_type": "code",
        "colab": {}
      },
      "source": [
        "check = pd.DataFrame(y_test).reset_index()\n",
        "for i in check[check['ArrDelayMinutes'] < 100].index:\n",
        "  X_test1.append(X_test[i])\n",
        "  y_test1.append(y_test_array[i])\n",
        "for i in check[ (check['ArrDelayMinutes'] >= 100 ) & (check['ArrDelayMinutes'] < 200)].index:\n",
        "  X_test2.append(X_test[i])\n",
        "  y_test2.append(y_test_array[i])\n",
        "for i in check[ (check['ArrDelayMinutes'] >= 200 ) & (check['ArrDelayMinutes'] < 500)].index:\n",
        "  X_test3.append(X_test[i])\n",
        "  y_test3.append(y_test_array[i])\n",
        "for i in check[ (check['ArrDelayMinutes'] >= 500 ) & (check['ArrDelayMinutes'] < 1000)].index:\n",
        "  X_test4.append(X_test[i])\n",
        "  y_test4.append(y_test_array[i])\n",
        "for i in check[check['ArrDelayMinutes'] >= 1000].index:\n",
        "  X_test5.append(X_test[i])\n",
        "  y_test5.append(y_test_array[i])\n"
      ],
      "execution_count": 17,
      "outputs": []
    },
    {
      "cell_type": "code",
      "metadata": {
        "id": "eT1kuip_xpHs",
        "colab_type": "code",
        "colab": {}
      },
      "source": [
        "regressor = GradientBoostingRegressor()\n",
        "regressor = regressor.fit(X_train, y_train)"
      ],
      "execution_count": 18,
      "outputs": []
    },
    {
      "cell_type": "code",
      "metadata": {
        "id": "CxBwK7hPxdN7",
        "colab_type": "code",
        "colab": {
          "base_uri": "https://localhost:8080/",
          "height": 68
        },
        "outputId": "d5a54ec1-b73d-4159-aa1d-04fcf431f3c0"
      },
      "source": [
        "\n",
        "y_pred1 = regressor.predict(X_test1)\n",
        "print('15 - 100')\n",
        "print('root_mean_squared_error:', mean_squared_error(y_test1, y_pred1) ** 0.5)\n",
        "print('mean_absolute_error:', mean_absolute_error(y_test1, y_pred1))\n",
        "      "
      ],
      "execution_count": 19,
      "outputs": [
        {
          "output_type": "stream",
          "text": [
            "15 - 100\n",
            "root_mean_squared_error: 13.692413460002173\n",
            "mean_absolute_error: 10.399150293365219\n"
          ],
          "name": "stdout"
        }
      ]
    },
    {
      "cell_type": "code",
      "metadata": {
        "id": "V6u4ytqEF8A9",
        "colab_type": "code",
        "colab": {
          "base_uri": "https://localhost:8080/",
          "height": 68
        },
        "outputId": "843e3a06-fd6e-4396-e9f0-956449dfc880"
      },
      "source": [
        "\n",
        "y_pred2 = regressor.predict(X_test2)\n",
        "print('100 - 200')\n",
        "print('root_mean_squared_error:', mean_squared_error(y_test2, y_pred2) ** 0.5)\n",
        "print('mean_absolute_error:', mean_absolute_error(y_test2, y_pred2))\n",
        "      "
      ],
      "execution_count": 20,
      "outputs": [
        {
          "output_type": "stream",
          "text": [
            "100 - 200\n",
            "root_mean_squared_error: 27.250622484342852\n",
            "mean_absolute_error: 17.97263933264318\n"
          ],
          "name": "stdout"
        }
      ]
    },
    {
      "cell_type": "code",
      "metadata": {
        "id": "MQYUQZ6bF8FG",
        "colab_type": "code",
        "colab": {
          "base_uri": "https://localhost:8080/",
          "height": 68
        },
        "outputId": "b9184f73-2b49-48fc-ec6d-15cbbdeeef43"
      },
      "source": [
        "\n",
        "y_pred3 = regressor.predict(X_test3)\n",
        "print('200 - 500')\n",
        "print('root_mean_squared_error:', mean_squared_error(y_test3, y_pred3) ** 0.5)\n",
        "print('mean_absolute_error:', mean_absolute_error(y_test3, y_pred3))\n",
        "      "
      ],
      "execution_count": 21,
      "outputs": [
        {
          "output_type": "stream",
          "text": [
            "200 - 500\n",
            "root_mean_squared_error: 29.855408151844266\n",
            "mean_absolute_error: 18.96779320799992\n"
          ],
          "name": "stdout"
        }
      ]
    },
    {
      "cell_type": "code",
      "metadata": {
        "id": "fKD7rKgRF8I_",
        "colab_type": "code",
        "colab": {
          "base_uri": "https://localhost:8080/",
          "height": 68
        },
        "outputId": "727bc8d8-c972-422c-d93f-f2fb16bec94d"
      },
      "source": [
        "\n",
        "y_pred4 = regressor.predict(X_test4)\n",
        "print('500 - 1000')\n",
        "print('root_mean_squared_error:', mean_squared_error(y_test4, y_pred4) ** 0.5)\n",
        "print('mean_absolute_error:', mean_absolute_error(y_test4, y_pred4))\n",
        "      "
      ],
      "execution_count": 22,
      "outputs": [
        {
          "output_type": "stream",
          "text": [
            "500 - 1000\n",
            "root_mean_squared_error: 25.68358894261737\n",
            "mean_absolute_error: 17.708843845390028\n"
          ],
          "name": "stdout"
        }
      ]
    },
    {
      "cell_type": "code",
      "metadata": {
        "id": "4dPKhiLQF8Mh",
        "colab_type": "code",
        "colab": {
          "base_uri": "https://localhost:8080/",
          "height": 68
        },
        "outputId": "521ea169-4335-41c4-fa44-f4688435b397"
      },
      "source": [
        "\n",
        "y_pred5 = regressor.predict(X_test5)\n",
        "print('1000+')\n",
        "print('root_mean_squared_error:', mean_squared_error(y_test5, y_pred5) ** 0.5)\n",
        "print('mean_absolute_error:', mean_absolute_error(y_test5, y_pred5))\n",
        "      "
      ],
      "execution_count": 23,
      "outputs": [
        {
          "output_type": "stream",
          "text": [
            "1000+\n",
            "root_mean_squared_error: 26.094373548767326\n",
            "mean_absolute_error: 18.778464962220784\n"
          ],
          "name": "stdout"
        }
      ]
    },
    {
      "cell_type": "code",
      "metadata": {
        "id": "tj-muPGHqAtx",
        "colab_type": "code",
        "colab": {}
      },
      "source": [
        ""
      ],
      "execution_count": null,
      "outputs": []
    }
  ]
}