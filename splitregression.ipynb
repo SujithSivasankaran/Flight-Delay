{
  "nbformat": 4,
  "nbformat_minor": 0,
  "metadata": {
    "colab": {
      "name": "splitregression.ipynb",
      "provenance": []
    },
    "kernelspec": {
      "name": "python3",
      "display_name": "Python 3"
    }
  },
  "cells": [
    {
      "cell_type": "code",
      "metadata": {
        "id": "pPkEOPQc0uhi",
        "colab_type": "code",
        "colab": {}
      },
      "source": [
        "import pandas as pd\n",
        "import numpy as np\n",
        "from sklearn.ensemble import GradientBoostingRegressor\n",
        "from sklearn.model_selection import train_test_split\n",
        "from sklearn.preprocessing import LabelEncoder, StandardScaler\n",
        "from sklearn.metrics import r2_score, mean_squared_error, mean_absolute_error"
      ],
      "execution_count": 34,
      "outputs": []
    },
    {
      "cell_type": "code",
      "metadata": {
        "id": "aC_sSGJr1Idn",
        "colab_type": "code",
        "colab": {}
      },
      "source": [
        "ds = pd.read_csv('/content/drive/My Drive/flight project /finaldata.csv')\n",
        "# ds.drop(ds[ds['ArrDel15'] == 0].index,inplace = True)\n",
        "features = ['Quarter', 'Month', 'DayofMonth','Origin',  'Dest', 'CRSDepTime',\n",
        "            'DepTime', 'DepDelayMinutes', 'windspeedKmph', 'DewPointF', 'cloudcover',\n",
        "            'precipMM', 'pressure', 'WindGustKmph', 'visibility', 'weatherCode', 'tempF',\n",
        "            'WindChillF', 'winddirDegree', 'humidity', 'ArrDelayMinutes']\n",
        "ds = ds.loc[: , features  ]\n",
        "ds.dropna(inplace = True)\n",
        "target = 'ArrDelayMinutes'"
      ],
      "execution_count": 56,
      "outputs": []
    },
    {
      "cell_type": "code",
      "metadata": {
        "id": "GWTEGaZ1ddIM",
        "colab_type": "code",
        "colab": {}
      },
      "source": [
        "ds1 = ds[ ds[target] < 100 ]\n",
        "ds2 = ds[ (ds[target] >= 100) & (ds[target] < 200) ]\n",
        "ds3 = ds[ (ds[target] >= 200) & (ds[target] < 500) ]\n",
        "ds4 = ds[ (ds[target] >= 500) & (ds[target] < 1000)]\n",
        "ds5 = ds[ ds[target] > 1000 ]\n"
      ],
      "execution_count": 57,
      "outputs": []
    },
    {
      "cell_type": "code",
      "metadata": {
        "id": "YhgNs_Ex2yid",
        "colab_type": "code",
        "colab": {}
      },
      "source": [
        "def process(dataset):\n",
        "  X = dataset.drop(target, axis = 1)\n",
        "  X['Origin'] = LabelEncoder().fit_transform(X['Origin'])\n",
        "  X['Dest'] = LabelEncoder().fit_transform(X['Dest'])\n",
        "  y = dataset[target]\n",
        "  X_train, X_test, y_train, y_test = train_test_split(X, y, test_size = 0.20, random_state = 0)\n",
        "  sc = StandardScaler()\n",
        "  X_train = sc.fit_transform(X_train)\n",
        "  X_test = sc.transform(X_test)\n",
        "  return X_train, X_test, y_train, y_test"
      ],
      "execution_count": 58,
      "outputs": []
    },
    {
      "cell_type": "code",
      "metadata": {
        "id": "Tx6ByvEH3N9O",
        "colab_type": "code",
        "colab": {}
      },
      "source": [
        "# X_test1, X_test2, X_test3, X_test4, X_test5 = [], [], [], [], []\n",
        "# X_train1, X_train2, X_train3, X_train4, X_train5 = [], [], [], [], []\n",
        "# y_train1, y_train2, y_train3, y_train4, y_train5 = [], [], [], [], []\n",
        "# y_test1, y_test2, y_test3, y_test4 ,y_test5 = [], [], [], [], []\n",
        "# y_train_array = np.array(y_train)\n",
        "# y_test_array = np.array(y_test)"
      ],
      "execution_count": 59,
      "outputs": []
    },
    {
      "cell_type": "code",
      "metadata": {
        "id": "ZCRcY1X68MiN",
        "colab_type": "code",
        "colab": {}
      },
      "source": [
        "# check = pd.DataFrame(y_train).reset_index()\n",
        "# for i in check[check['ArrDelayMinutes'] < 100].index:\n",
        "#   X_train1.append(X_train[i])\n",
        "#   y_train1.append(y_train_array[i])\n",
        "# for i in check[ (check['ArrDelayMinutes'] >= 100 ) & (check['ArrDelayMinutes'] < 200)].index:\n",
        "#   X_train2.append(X_train[i])\n",
        "#   y_train2.append(y_train_array[i])\n",
        "# for i in check[ (check['ArrDelayMinutes'] >= 200 ) & (check['ArrDelayMinutes'] < 500)].index:\n",
        "#   X_train3.append(X_train[i])\n",
        "#   y_train3.append(y_train_array[i])\n",
        "# for i in check[ (check['ArrDelayMinutes'] >= 500 ) & (check['ArrDelayMinutes'] < 1000)].index:\n",
        "#   X_train4.append(X_train[i])\n",
        "#   y_train4.append(y_train_array[i])\n",
        "# for i in check[check['ArrDelayMinutes'] >= 1000].index:\n",
        "#   X_train5.append(X_train[i])\n",
        "#   y_train5.append(y_train_array[i])\n"
      ],
      "execution_count": 60,
      "outputs": []
    },
    {
      "cell_type": "code",
      "metadata": {
        "id": "fGgCe2bSHpXz",
        "colab_type": "code",
        "colab": {}
      },
      "source": [
        "# check = pd.DataFrame(y_test).reset_index()\n",
        "# for i in check[check['ArrDelayMinutes'] < 100].index:\n",
        "#   X_test1.append(X_test[i])\n",
        "#   y_test1.append(y_test_array[i])\n",
        "# for i in check[ (check['ArrDelayMinutes'] >= 100 ) & (check['ArrDelayMinutes'] < 200)].index:\n",
        "#   X_test2.append(X_test[i])\n",
        "#   y_test2.append(y_test_array[i])\n",
        "# for i in check[ (check['ArrDelayMinutes'] >= 200 ) & (check['ArrDelayMinutes'] < 500)].index:\n",
        "#   X_test3.append(X_test[i])\n",
        "#   y_test3.append(y_test_array[i])\n",
        "# for i in check[ (check['ArrDelayMinutes'] >= 500 ) & (check['ArrDelayMinutes'] < 1000)].index:\n",
        "#   X_test4.append(X_test[i])\n",
        "#   y_test4.append(y_test_array[i])\n",
        "# for i in check[check['ArrDelayMinutes'] >= 1000].index:\n",
        "#   X_test5.append(X_test[i])\n",
        "#   y_test5.append(y_test_array[i])\n"
      ],
      "execution_count": 61,
      "outputs": []
    },
    {
      "cell_type": "code",
      "metadata": {
        "id": "54Lfi3AveqbR",
        "colab_type": "code",
        "colab": {}
      },
      "source": [
        "# len(X_train2) + len(X_test2)"
      ],
      "execution_count": 62,
      "outputs": []
    },
    {
      "cell_type": "code",
      "metadata": {
        "id": "V-fbw0jt8Mqu",
        "colab_type": "code",
        "colab": {}
      },
      "source": [
        "def regression(category, dataset):\n",
        "  X_train, X_test, y_train, y_test = process(dataset)\n",
        "  regressor = GradientBoostingRegressor()\n",
        "  regressor = regressor.fit(X_train, y_train)\n",
        "  y_pred = regressor.predict(X_test)\n",
        "  print(category)\n",
        "  print('r2_score:', r2_score(y_test, y_pred))\n",
        "  print('mean_squared_error:', mean_squared_error(y_test, y_pred) ** 0.5)\n",
        "  print('mean_absolute_error:', mean_absolute_error(y_test, y_pred))\n",
        "  print()"
      ],
      "execution_count": 63,
      "outputs": []
    },
    {
      "cell_type": "code",
      "metadata": {
        "id": "ZctPRmmpgvx-",
        "colab_type": "code",
        "colab": {
          "base_uri": "https://localhost:8080/",
          "height": 442
        },
        "outputId": "d3241c28-830a-4b22-bdf9-58921fa54e2c"
      },
      "source": [
        "regression('0 - 100:', ds1)\n",
        "regression('100 - 200:', ds2)\n",
        "regression('200 - 500:', ds3)\n",
        "regression('500 - 1000:', ds4)\n",
        "regression('2000+:', ds5)\n"
      ],
      "execution_count": 64,
      "outputs": [
        {
          "output_type": "stream",
          "text": [
            "0 - 100:\n",
            "r2_score: 0.7436492594396991\n",
            "mean_squared_error: 8.961359331456272\n",
            "mean_absolute_error: 5.121814769001581\n",
            "\n",
            "100 - 200:\n",
            "r2_score: 0.6746554380607941\n",
            "mean_squared_error: 15.565502455217986\n",
            "mean_absolute_error: 11.724437402459122\n",
            "\n",
            "200 - 500:\n",
            "r2_score: 0.9045742966377003\n",
            "mean_squared_error: 20.57567807549966\n",
            "mean_absolute_error: 14.739268005233924\n",
            "\n",
            "500 - 1000:\n",
            "r2_score: 0.9829023423028825\n",
            "mean_squared_error: 18.297075939618782\n",
            "mean_absolute_error: 13.9805631694472\n",
            "\n",
            "2000+:\n",
            "r2_score: 0.9511950428352148\n",
            "mean_squared_error: 53.38853840240477\n",
            "mean_absolute_error: 29.163275295330042\n",
            "\n"
          ],
          "name": "stdout"
        }
      ]
    },
    {
      "cell_type": "code",
      "metadata": {
        "id": "V6u4ytqEF8A9",
        "colab_type": "code",
        "colab": {}
      },
      "source": [
        "# regressor = GradientBoostingRegressor()\n",
        "# regressor = regressor.fit(X_train2, y_train2)\n",
        "# y_pred2 = regressor.predict(X_test2)\n",
        "# print('r2_score:', r2_score(y_test2, y_pred2))\n",
        "# print('mean_squared_error:', mean_squared_error(y_test2, y_pred2) ** 0.5)\n",
        "# print('mean_absolute_error:', mean_absolute_error(y_test2, y_pred2))\n",
        "      "
      ],
      "execution_count": 65,
      "outputs": []
    },
    {
      "cell_type": "code",
      "metadata": {
        "id": "MQYUQZ6bF8FG",
        "colab_type": "code",
        "colab": {}
      },
      "source": [
        "# regressor = GradientBoostingRegressor()\n",
        "# regressor = regressor.fit(X_train3, y_train3)\n",
        "# y_pred3 = regressor.predict(X_test3)\n",
        "# print('r2_score:', r2_score(y_test3, y_pred3))\n",
        "# print('mean_squared_error:', mean_squared_error(y_test3, y_pred3) ** 0.5)\n",
        "# print('mean_absolute_error:', mean_absolute_error(y_test3, y_pred3))\n",
        "      "
      ],
      "execution_count": 66,
      "outputs": []
    },
    {
      "cell_type": "code",
      "metadata": {
        "id": "fKD7rKgRF8I_",
        "colab_type": "code",
        "colab": {}
      },
      "source": [
        "# regressor = GradientBoostingRegressor()\n",
        "# regressor = regressor.fit(X_train4, y_train4)\n",
        "# y_pred4 = regressor.predict(X_test4)\n",
        "# print('r2_score:', r2_score(y_test4, y_pred4))\n",
        "# print('mean_squared_error:', mean_squared_error(y_test4, y_pred4) ** 0.5)\n",
        "# print('mean_absolute_error:', mean_absolute_error(y_test4, y_pred4))\n",
        "      "
      ],
      "execution_count": 67,
      "outputs": []
    },
    {
      "cell_type": "code",
      "metadata": {
        "id": "4dPKhiLQF8Mh",
        "colab_type": "code",
        "colab": {}
      },
      "source": [
        "# regressor = GradientBoostingRegressor()\n",
        "# regressor = regressor.fit(X_train5, y_train5)\n",
        "# y_pred5 = regressor.predict(X_test5)\n",
        "# print('r2_score:', r2_score(y_test5, y_pred5))\n",
        "# print('mean_squared_error:', mean_squared_error(y_test5, y_pred5) ** 0.5)\n",
        "# print('mean_absolute_error:', mean_absolute_error(y_test5, y_pred5))\n",
        "      "
      ],
      "execution_count": 68,
      "outputs": []
    },
    {
      "cell_type": "code",
      "metadata": {
        "id": "Dt7KOMP3K2-U",
        "colab_type": "code",
        "colab": {}
      },
      "source": [
        ""
      ],
      "execution_count": null,
      "outputs": []
    }
  ]
}