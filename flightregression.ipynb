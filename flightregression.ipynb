{
  "nbformat": 4,
  "nbformat_minor": 0,
  "metadata": {
    "colab": {
      "name": "regression.ipynb",
      "provenance": []
    },
    "kernelspec": {
      "name": "python3",
      "display_name": "Python 3"
    }
  },
  "cells": [
    {
      "cell_type": "markdown",
      "metadata": {
        "id": "ZPpXZ-H90c37",
        "colab_type": "text"
      },
      "source": [
        "#REGRESSION\n"
      ]
    },
    {
      "cell_type": "code",
      "metadata": {
        "id": "OWzpsdqyzoY0",
        "colab_type": "code",
        "colab": {}
      },
      "source": [
        "import pandas as pd\n",
        "import numpy as np\n",
        "from sklearn.metrics import r2_score, mean_squared_error, mean_absolute_error\n",
        "from sklearn.model_selection import train_test_split\n",
        "from sklearn.linear_model import LinearRegression\n",
        "from sklearn.ensemble import GradientBoostingRegressor, ExtraTreesRegressor\n",
        "from sklearn.svm import SVR\n",
        "from sklearn.preprocessing import LabelEncoder, StandardScaler"
      ],
      "execution_count": null,
      "outputs": []
    },
    {
      "cell_type": "code",
      "metadata": {
        "id": "1aYYzr8N30fA",
        "colab_type": "code",
        "colab": {}
      },
      "source": [
        "ds = pd.read_csv('/content/drive/My Drive/flight project /finaldata.csv')\n",
        "ds.dropna(inplace = True)\n",
        "ds = ds[ds['ArrDel15'] == 1]\n",
        "features = ['CRSDepTime', 'CRSArrTime','DepDelayMinutes', 'Dest', 'windspeedKmph', 'weatherCode',\n",
        "            'precipMM', 'pressure', 'cloudcover', 'DewPointF', 'WindGustKmph', 'Origin',\n",
        "            'tempF', 'WindChillF', 'time', 'ArrDelayMinutes']\n",
        "ds = ds.loc[: , features  ]\n",
        "target = 'ArrDelayMinutes'"
      ],
      "execution_count": null,
      "outputs": []
    },
    {
      "cell_type": "code",
      "metadata": {
        "id": "7OETJ_Bh4uFC",
        "colab_type": "code",
        "colab": {}
      },
      "source": [
        "X = ds.drop(target, axis = 1)\n",
        "X['Origin'] = LabelEncoder().fit_transform(X['Origin'])\n",
        "X['Dest'] = LabelEncoder().fit_transform(X['Dest'])\n",
        "y = ds[target]\n",
        "X_train, X_test, y_train, y_test = train_test_split(X, y, test_size = 0.20, random_state = 0)\n",
        "sc = StandardScaler()\n",
        "X_train = sc.fit_transform(X_train)\n",
        "X_test = sc.transform(X_test)"
      ],
      "execution_count": null,
      "outputs": []
    },
    {
      "cell_type": "code",
      "metadata": {
        "id": "rqPMYffp475s",
        "colab_type": "code",
        "colab": {}
      },
      "source": [
        "def generate_report(y_test, y_pred):\n",
        "  print('r2 value: ',r2_score(y_test, y_pred))\n",
        "  print('rmse: ', mean_squared_error(y_test,y_pred)**0.5)\n",
        "  print('mae: ',mean_absolute_error(y_test, y_pred))"
      ],
      "execution_count": null,
      "outputs": []
    },
    {
      "cell_type": "code",
      "metadata": {
        "id": "w4vsjmlKGMFA",
        "colab_type": "code",
        "colab": {
          "base_uri": "https://localhost:8080/",
          "height": 68
        },
        "outputId": "27db65eb-4386-49cc-f6eb-38ca9fa2add7"
      },
      "source": [
        "regressor = LinearRegression()\n",
        "regressor = regressor.fit(X_train,y_train)\n",
        "y_pred = regressor.predict(X_test)\n",
        "generate_report(y_test, y_pred)"
      ],
      "execution_count": null,
      "outputs": [
        {
          "output_type": "stream",
          "text": [
            "r2 value:  0.9236176845921613\n",
            "rmse:  19.847258096130354\n",
            "mae:  14.565143317586218\n"
          ],
          "name": "stdout"
        }
      ]
    },
    {
      "cell_type": "code",
      "metadata": {
        "id": "_yYb2bGcGhT2",
        "colab_type": "code",
        "colab": {
          "base_uri": "https://localhost:8080/",
          "height": 68
        },
        "outputId": "f31867a2-6a11-460c-aefc-42b51ec0cb42"
      },
      "source": [
        "regressor = GradientBoostingRegressor()\n",
        "regressor = regressor.fit(X_train,y_train)\n",
        "y_pred = regressor.predict(X_test)\n",
        "generate_report(y_test, y_pred)"
      ],
      "execution_count": null,
      "outputs": [
        {
          "output_type": "stream",
          "text": [
            "r2 value:  0.9445183577855055\n",
            "rmse:  16.915263265680732\n",
            "mae:  11.710237122037757\n"
          ],
          "name": "stdout"
        }
      ]
    },
    {
      "cell_type": "code",
      "metadata": {
        "id": "5leQwOrJG_Ar",
        "colab_type": "code",
        "colab": {
          "base_uri": "https://localhost:8080/",
          "height": 68
        },
        "outputId": "e9f157a6-66ed-4f44-d0f6-fcba0487bac4"
      },
      "source": [
        "regressor = ExtraTreesRegressor()\n",
        "regressor = regressor.fit(X_train,y_train)\n",
        "y_pred = regressor.predict(X_test)\n",
        "generate_report(y_test, y_pred)"
      ],
      "execution_count": null,
      "outputs": [
        {
          "output_type": "stream",
          "text": [
            "r2 value:  0.9442727265316174\n",
            "rmse:  16.95266598660423\n",
            "mae:  11.918400247384426\n"
          ],
          "name": "stdout"
        }
      ]
    },
    {
      "cell_type": "code",
      "metadata": {
        "id": "PsL3qaUKHAaN",
        "colab_type": "code",
        "colab": {}
      },
      "source": [
        "regressor = SVR()\n",
        "regressor = regressor.fit(X_train,y_train)\n",
        "y_pred = regressor.predict(X_test)\n",
        "generate_report(y_test, y_pred)"
      ],
      "execution_count": null,
      "outputs": []
    },
    {
      "cell_type": "code",
      "metadata": {
        "id": "XS7h6aEvIHtR",
        "colab_type": "code",
        "colab": {}
      },
      "source": [
        "# 15-100\n",
        "# 100-200\n",
        "# 200-500\n",
        "# 500-1000\n",
        "# 1000+"
      ],
      "execution_count": null,
      "outputs": []
    }
  ]
}