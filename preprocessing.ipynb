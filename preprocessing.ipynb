{
  "nbformat": 4,
  "nbformat_minor": 0,
  "metadata": {
    "kernelspec": {
      "display_name": "Python 3",
      "language": "python",
      "name": "python3"
    },
    "language_info": {
      "codemirror_mode": {
        "name": "ipython",
        "version": 3
      },
      "file_extension": ".py",
      "mimetype": "text/x-python",
      "name": "python",
      "nbconvert_exporter": "python",
      "pygments_lexer": "ipython3",
      "version": "3.7.4"
    },
    "colab": {
      "name": "preprocessing.ipynb",
      "provenance": [],
      "collapsed_sections": [],
      "toc_visible": true
    }
  },
  "cells": [
    {
      "cell_type": "markdown",
      "metadata": {
        "id": "-n8esNP40EWH",
        "colab_type": "text"
      },
      "source": [
        "#PREPROCESSING"
      ]
    },
    {
      "cell_type": "code",
      "metadata": {
        "id": "XZQEZlU30eUO",
        "colab_type": "code",
        "colab": {}
      },
      "source": [
        "from google.colab import drive\n",
        "drive.mount('/content/drive')"
      ],
      "execution_count": null,
      "outputs": []
    },
    {
      "cell_type": "markdown",
      "metadata": {
        "id": "CUQ-F1Xa0E6h",
        "colab_type": "text"
      },
      "source": [
        "importing nessary modules"
      ]
    },
    {
      "cell_type": "code",
      "metadata": {
        "id": "zhg0uGAxxfzd",
        "colab_type": "code",
        "colab": {}
      },
      "source": [
        "import pandas as pd\n",
        "import numpy as np\n",
        "import os\n",
        "import csv\n",
        "import json\n",
        "import time"
      ],
      "execution_count": null,
      "outputs": []
    },
    {
      "cell_type": "markdown",
      "metadata": {
        "id": "Gy73jcaA0GcY",
        "colab_type": "text"
      },
      "source": [
        "preprocessing the flight data"
      ]
    },
    {
      "cell_type": "code",
      "metadata": {
        "scrolled": false,
        "id": "hI0I2iGLxfzg",
        "colab_type": "code",
        "colab": {
          "base_uri": "https://localhost:8080/",
          "height": 241
        },
        "outputId": "f44b1eaa-1af1-4f15-8728-7f352ffea6fc"
      },
      "source": [
        "base_path = '/content/drive/My Drive/flight project /flight'\n",
        "airport_list = ['ATL', 'CLT', 'DEN', 'DFW', 'EWR', \n",
        "                'IAH', 'JFK', 'LAS', 'LAX', 'MCO',\n",
        "                'MIA', 'ORD', 'PHX', 'SEA', 'SFO']\n",
        "temp = pd.DataFrame()\n",
        "flight_df = pd.DataFrame()\n",
        "for filename in os.listdir(base_path):\n",
        "    temp = pd.read_csv(base_path + '/' + filename + '/' + filename + '.csv')\n",
        "    temp = temp.loc[:, ['FlightDate', 'Quarter', 'Year', 'Month', 'DayofMonth', 'DepTime', \n",
        "                             'DepDel15', 'CRSDepTime', 'DepDelayMinutes', 'OriginAirportID', \n",
        "                             'DestAirportID', 'ArrTime', 'CRSArrTime', 'ArrDel15', 'ArrDelayMinutes',\n",
        "                             'Origin', 'Dest'] ]\n",
        "    temp = temp[temp['CRSDepTime'].notnull()]\n",
        "    temp['mod_dep_time'] = temp['CRSDepTime'].apply(lambda x: (((x // 100) + ((x % 100) // 30)) * 100) if x // 100 != 23 \n",
        "                                                 else ((x // 100) * 100) )\n",
        "    flight_df = pd.concat([flight_df, temp])\n",
        "flight_df = flight_df[flight_df['Origin'].isin(airport_list) & flight_df['Dest'].isin(airport_list)]\n",
        "flight_df.to_csv('/content/drive/My Drive/flight project /flightdata.csv',index = False)\n"
      ],
      "execution_count": null,
      "outputs": [
        {
          "output_type": "stream",
          "text": [
            "/usr/local/lib/python3.6/dist-packages/IPython/core/interactiveshell.py:2718: DtypeWarning: Columns (48,77,84) have mixed types.Specify dtype option on import or set low_memory=False.\n",
            "  interactivity=interactivity, compiler=compiler, result=result)\n",
            "/usr/local/lib/python3.6/dist-packages/IPython/core/interactiveshell.py:2718: DtypeWarning: Columns (77,84) have mixed types.Specify dtype option on import or set low_memory=False.\n",
            "  interactivity=interactivity, compiler=compiler, result=result)\n",
            "/usr/local/lib/python3.6/dist-packages/IPython/core/interactiveshell.py:2718: DtypeWarning: Columns (48,77) have mixed types.Specify dtype option on import or set low_memory=False.\n",
            "  interactivity=interactivity, compiler=compiler, result=result)\n",
            "/usr/local/lib/python3.6/dist-packages/IPython/core/interactiveshell.py:2718: DtypeWarning: Columns (77) have mixed types.Specify dtype option on import or set low_memory=False.\n",
            "  interactivity=interactivity, compiler=compiler, result=result)\n",
            "/usr/local/lib/python3.6/dist-packages/IPython/core/interactiveshell.py:2718: DtypeWarning: Columns (48,69,76,77,84) have mixed types.Specify dtype option on import or set low_memory=False.\n",
            "  interactivity=interactivity, compiler=compiler, result=result)\n",
            "/usr/local/lib/python3.6/dist-packages/IPython/core/interactiveshell.py:2718: DtypeWarning: Columns (48,77,84,85) have mixed types.Specify dtype option on import or set low_memory=False.\n",
            "  interactivity=interactivity, compiler=compiler, result=result)\n"
          ],
          "name": "stderr"
        }
      ]
    },
    {
      "cell_type": "markdown",
      "metadata": {
        "id": "dgya-fsi0Hpj",
        "colab_type": "text"
      },
      "source": [
        "preprocessing the weather data"
      ]
    },
    {
      "cell_type": "code",
      "metadata": {
        "id": "bJPa9Xdpxfzj",
        "colab_type": "code",
        "colab": {}
      },
      "source": [
        "weather_df = pd.DataFrame()\n",
        "base_path =os.getcwd()\n",
        "year = ['2016','2017']\n",
        "airport_list = ['ATL', 'CLT', 'DEN', 'DFW', 'EWR',\n",
        "                'IAH', 'JFK', 'LAS', 'LAX', 'MCO',\n",
        "                'MIA', 'ORD', 'PHX', 'SEA', 'SFO']\n",
        "for j in airport_list:\n",
        "    for k in os.listdir('/content/drive/My Drive/flight project /weather/' + j):\n",
        "      if(k[0:4] in year):\n",
        "        df = pd.read_json('/content/drive/My Drive/flight project /weather/' + j + '/' + k)\n",
        "        for i in range(len(df.data.weather)):\n",
        "            temp = pd.DataFrame(df.data.weather[i]['hourly'])\n",
        "            temp['date'] = df.data.weather[i]['date']\n",
        "            temp['airport'] = j\n",
        "            weather_df = pd.concat([weather_df, temp])\n",
        "weather_df = weather_df.loc[ : , ['windspeedKmph', 'winddirDegree', 'weatherCode', 'precipMM',                               \n",
        "                                 'visibility', 'pressure', 'cloudcover', 'DewPointF', 'WindGustKmph', \n",
        "                                 'tempF', 'WindChillF', 'humidity', 'date', 'time', 'airport']] \n",
        "weather_df.to_csv('/content/drive/My Drive/flight project ' + '/weatherdata.csv',index = False)\n"
      ],
      "execution_count": null,
      "outputs": []
    },
    {
      "cell_type": "markdown",
      "metadata": {
        "id": "mndumXcutU8O",
        "colab_type": "text"
      },
      "source": [
        "merging flight and airport and getting final dataset"
      ]
    },
    {
      "cell_type": "code",
      "metadata": {
        "id": "7xroO2L6xfzl",
        "colab_type": "code",
        "colab": {}
      },
      "source": [
        "final_df = pd.merge(flight_df, weather_df,  how='inner', left_on=['Origin', 'mod_dep_time', 'FlightDate'], right_on = ['airport', 'time', 'date'])\n",
        "final_df.dropna()\n",
        "final_df.to_csv('/content/drive/My Drive/flight project ' + '/finaldata.csv', index = False)\n"
      ],
      "execution_count": null,
      "outputs": []
    },
    {
      "cell_type": "code",
      "metadata": {
        "id": "wbS9rFvT9Yia",
        "colab_type": "code",
        "colab": {}
      },
      "source": [
        ""
      ],
      "execution_count": null,
      "outputs": []
    }
  ]
}