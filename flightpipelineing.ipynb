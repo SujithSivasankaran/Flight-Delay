{
  "nbformat": 4,
  "nbformat_minor": 0,
  "metadata": {
    "colab": {
      "name": "pipelineing.ipynb",
      "provenance": []
    },
    "kernelspec": {
      "name": "python3",
      "display_name": "Python 3"
    }
  },
  "cells": [
    {
      "cell_type": "code",
      "metadata": {
        "id": "s2a2NNF3nIdN",
        "colab_type": "code",
        "colab": {}
      },
      "source": [
        "import pandas as pd\n",
        "import numpy as np\n",
        "from sklearn.model_selection import train_test_split \n",
        "from sklearn.preprocessing import LabelEncoder, StandardScaler\n",
        "from sklearn.metrics import  classification_report , mean_squared_error, mean_absolute_error ,r2_score\n",
        "from sklearn.ensemble import RandomForestClassifier, GradientBoostingRegressor\n",
        "from sklearn.linear_model import LogisticRegression"
      ],
      "execution_count": 1,
      "outputs": []
    },
    {
      "cell_type": "code",
      "metadata": {
        "id": "QyB5HzHXnl8N",
        "colab_type": "code",
        "colab": {}
      },
      "source": [
        "ds = pd.read_csv('/content/drive/My Drive/flight project /finaldata.csv')\n",
        "ds.dropna(inplace = True)\n",
        "features = ['CRSDepTime', 'CRSArrTime','DepDelayMinutes', 'Dest', 'windspeedKmph', 'weatherCode',\n",
        "            'precipMM', 'pressure', 'cloudcover', 'DewPointF', 'WindGustKmph', 'Origin',\n",
        "            'tempF', 'WindChillF', 'ArrDel15', 'ArrDelayMinutes']\n",
        "ds = ds.loc[:, features]\n",
        "classification_target = 'ArrDel15'\n",
        "regression_target = 'ArrDelayMinutes'"
      ],
      "execution_count": 2,
      "outputs": []
    },
    {
      "cell_type": "code",
      "metadata": {
        "id": "ZgkdCPzmnmDD",
        "colab_type": "code",
        "colab": {}
      },
      "source": [
        "X = ds.drop([classification_target, regression_target], axis = 1)\n",
        "X['Origin'] = LabelEncoder().fit_transform(X['Origin'])\n",
        "X['Dest'] = LabelEncoder().fit_transform(X['Dest'])\n",
        "y_c = ds[classification_target]\n",
        "y_r = ds[regression_target]\n",
        "X_train, X_test, y_train_c, y_test_c , y_train_r, y_test_r= train_test_split(X, y_c, y_r, test_size = 0.20, random_state = 0)\n",
        "sc = StandardScaler()\n",
        "X_train = sc.fit_transform(X_train)\n",
        "X_test = sc.transform(X_test)"
      ],
      "execution_count": 3,
      "outputs": []
    },
    {
      "cell_type": "code",
      "metadata": {
        "id": "iP3KjNde-3W2",
        "colab_type": "code",
        "colab": {}
      },
      "source": [
        "# converting the y_test and y_train to array\n",
        "y_train_r_array = np.array(y_train_r)\n",
        "y_test_r_array = np.array(y_test_r)"
      ],
      "execution_count": 4,
      "outputs": []
    },
    {
      "cell_type": "code",
      "metadata": {
        "id": "_Uiza5dajlD4",
        "colab_type": "code",
        "colab": {}
      },
      "source": [
        "# aeparating data pf delayed flights\n",
        "X_train_delayed = []\n",
        "y_train_delayed = []\n",
        "X_test_delayed = []\n",
        "y_test_delayed = []\n",
        "check = pd.DataFrame(y_train_c)\n",
        "check.reset_index(inplace = True)\n",
        "for i in check[check['ArrDel15'] == 1].index:\n",
        "  X_train_delayed.append(X_train[i])\n",
        "  y_train_delayed.append(y_train_r_array[i])\n",
        "check = pd.DataFrame(y_test_c)\n",
        "check.reset_index(inplace = True)\n",
        "for i in check[check['ArrDel15'] == 1].index:\n",
        "  X_test_delayed.append(X_test[i])\n",
        "  y_test_delayed.append(y_test_r_array[i])"
      ],
      "execution_count": 6,
      "outputs": []
    },
    {
      "cell_type": "code",
      "metadata": {
        "id": "3uvGjTaR2z8L",
        "colab_type": "code",
        "colab": {
          "base_uri": "https://localhost:8080/",
          "height": 68
        },
        "outputId": "5bdd765d-c27d-4ae5-eb95-19b1b43a7ce9"
      },
      "source": [
        "# training the regression model \n",
        "regressor = GradientBoostingRegressor()\n",
        "regressor = regressor.fit(X_train_delayed, y_train_delayed)\n",
        "y_pred_regressor = regressor.predict(X_test_delayed)\n",
        "print('r2_score:', r2_score(y_test_delayed, y_pred_regressor))\n",
        "print('mean_squared_error:', mean_squared_error(y_test_delayed, y_pred_regressor) ** 0.5)\n",
        "print('mean_absolute_error:', mean_absolute_error(y_test_delayed, y_pred_regressor))\n"
      ],
      "execution_count": 7,
      "outputs": [
        {
          "output_type": "stream",
          "text": [
            "r2_score: 0.9452650870680406\n",
            "mean_squared_error: 17.070280443026864\n",
            "mean_absolute_error: 11.732287128893626\n"
          ],
          "name": "stdout"
        }
      ]
    },
    {
      "cell_type": "code",
      "metadata": {
        "id": "Acto3k2LnmQ5",
        "colab_type": "code",
        "colab": {
          "base_uri": "https://localhost:8080/",
          "height": 170
        },
        "outputId": "d0458c66-19fd-441f-f198-95967e7f2a78"
      },
      "source": [
        "# training the classification model\n",
        "classifier = RandomForestClassifier(n_estimators = 100)\n",
        "classifier = classifier.fit(X_train, y_train_c)\n",
        "y_pred_classifier = classifier.predict(X_test)\n",
        "print(classification_report(y_test_c, y_pred_classifier))"
      ],
      "execution_count": 8,
      "outputs": [
        {
          "output_type": "stream",
          "text": [
            "              precision    recall  f1-score   support\n",
            "\n",
            "         0.0       0.92      0.98      0.95    292543\n",
            "         1.0       0.89      0.69      0.78     77745\n",
            "\n",
            "    accuracy                           0.92    370288\n",
            "   macro avg       0.91      0.84      0.86    370288\n",
            "weighted avg       0.92      0.92      0.91    370288\n",
            "\n"
          ],
          "name": "stdout"
        }
      ]
    },
    {
      "cell_type": "code",
      "metadata": {
        "id": "tdphGZK28E2n",
        "colab_type": "code",
        "colab": {}
      },
      "source": [
        "# getting values for predicting the delay\n",
        "X_regressor_test = []\n",
        "check = pd.DataFrame(y_pred_classifier)\n",
        "for i in check[check[0] == 1].index:\n",
        "  X_regressor_test.append(X_test[i])\n",
        "\n",
        "#predicting the dealy\n",
        "y_predict_delay = regressor.predict(X_regressor_test)"
      ],
      "execution_count": 9,
      "outputs": []
    },
    {
      "cell_type": "code",
      "metadata": {
        "id": "JRr8sd-q_vHW",
        "colab_type": "code",
        "colab": {
          "base_uri": "https://localhost:8080/",
          "height": 68
        },
        "outputId": "a8eb1f37-f218-4127-822b-2c1d007f0c92"
      },
      "source": [
        "y_test_true = []\n",
        "for i in check[check[0] == 1].index:\n",
        "  y_test_true.append(y_test_r_array[i])\n",
        "print('r2_score:', r2_score(y_test_true, y_predict_delay))\n",
        "print('mean_squared_error:', mean_squared_error(y_test_true, y_predict_delay) ** 0.5 )\n",
        "print('mean_absolute_error:', mean_absolute_error(y_test_true, y_predict_delay))"
      ],
      "execution_count": 10,
      "outputs": [
        {
          "output_type": "stream",
          "text": [
            "r2_score: 0.9465727795150413\n",
            "mean_squared_error: 18.668052325573413\n",
            "mean_absolute_error: 13.659656558332225\n"
          ],
          "name": "stdout"
        }
      ]
    }
  ]
}